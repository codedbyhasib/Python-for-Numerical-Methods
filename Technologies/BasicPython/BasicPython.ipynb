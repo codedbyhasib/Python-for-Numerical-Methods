{
 "cells": [
  {
   "cell_type": "code",
   "execution_count": 2,
   "id": "b5481baa-c8b4-453d-b8a4-34a236f70408",
   "metadata": {
    "scrolled": true
   },
   "outputs": [
    {
     "name": "stdout",
     "output_type": "stream",
     "text": [
      "Hello!Welcome to python world\n"
     ]
    }
   ],
   "source": [
    "#Topic-1:print somethig:\n",
    "print(\"Hello!Welcome to python world\")\n"
   ]
  },
  {
   "cell_type": "code",
   "execution_count": 4,
   "id": "3e1f100f-1fcf-4dc0-b404-6892ced3445e",
   "metadata": {},
   "outputs": [
    {
     "name": "stdout",
     "output_type": "stream",
     "text": [
      "Enter your name: Hasib\n"
     ]
    },
    {
     "name": "stdout",
     "output_type": "stream",
     "text": [
      "My name is Hasib\n"
     ]
    }
   ],
   "source": [
    "#Topic-2:Take user input:\n",
    "name=input(\"Enter your name:\")\n",
    "\n",
    "#show output:\n",
    "print(\"My name is\",name)"
   ]
  },
  {
   "cell_type": "code",
   "execution_count": 6,
   "id": "44168683-b589-4170-97b3-c211f0044b28",
   "metadata": {},
   "outputs": [],
   "source": [
    "#Topic-3:Use various type of variable:\n",
    "age=20   #this is integer\n",
    "name=\"Hasib\" # this is string\n",
    "CGPA=3.44 # This is flooting point\n",
    "Is_single=True; # This is boolean type"
   ]
  },
  {
   "cell_type": "code",
   "execution_count": 8,
   "id": "a7949035-2719-481f-b1ac-bf92b1e7ed6f",
   "metadata": {},
   "outputs": [
    {
     "name": "stdout",
     "output_type": "stream",
     "text": [
      "My name is  Hasib and age is 20 And My CGPA is 3.44 You are pure single(True or False): True\n"
     ]
    }
   ],
   "source": [
    "print(\"My name is \",name,\"and age is\",age,\"And My CGPA is\",CGPA,\"You are pure single(True or False):\",Is_single)"
   ]
  },
  {
   "cell_type": "code",
   "execution_count": 9,
   "id": "6fa10ca9-f4d1-4cdf-965c-0ccd2b6532a9",
   "metadata": {},
   "outputs": [],
   "source": [
    "#Topic-4.Operator:\n",
    "#1.Mathematical operator: + - * /\n",
    "#2.Comparator: ==,>,<,>=,<=\n",
    "#.Logical operator: AND OR NOT\n"
   ]
  },
  {
   "cell_type": "code",
   "execution_count": 14,
   "id": "9b70baf2-28c6-45d7-8414-76233974432a",
   "metadata": {},
   "outputs": [
    {
     "name": "stdout",
     "output_type": "stream",
     "text": [
      "sum 15\n",
      "subtraction: 5\n",
      "Multipication 50\n",
      "Division 2.0\n"
     ]
    }
   ],
   "source": [
    "##1.Mathematical operator: + - * /\n",
    "a=10\n",
    "b=5\n",
    "sum=a+b\n",
    "sub=a-b\n",
    "mul=a*b\n",
    "div=a/b\n",
    "\n",
    "print(\"sum\",sum)\n",
    "print(\"subtraction:\",sub)\n",
    "print(\"Multipication\",mul)\n",
    "print(\"Division\",div)"
   ]
  },
  {
   "cell_type": "code",
   "execution_count": 23,
   "id": "2c18ebcc-90be-4ff6-b868-73fa39934376",
   "metadata": {},
   "outputs": [
    {
     "name": "stdout",
     "output_type": "stream",
     "text": [
      "Grater number: 10\n",
      "Equal\n",
      "You are voter\n"
     ]
    }
   ],
   "source": [
    "#2.Comparator: ==,>,<,>=,<=\n",
    "# use of >,<\n",
    "c=5\n",
    "d=5\n",
    "\n",
    "if a>b:\n",
    "    print(\"Grater number:\",a)\n",
    "else:\n",
    "     print(\"Grater number:\",b)\n",
    "    \n",
    "#use of ==\n",
    "if c==d:\n",
    "     print(\"Equal\")\n",
    "else:\n",
    "    print(\"Not equal\")\n",
    "\n",
    "#use of >=,<=\n",
    "age=18;\n",
    "if age>=18:\n",
    "    print(\"You are voter\")\n",
    "else:\n",
    "    print(\"You are not voter\")"
   ]
  },
  {
   "cell_type": "code",
   "execution_count": 29,
   "id": "e98f2e6b-9e71-486d-afda-8959b69e149d",
   "metadata": {},
   "outputs": [
    {
     "name": "stdout",
     "output_type": "stream",
     "text": [
      "A+\n",
      "At least one condition is True.\n",
      "False\n"
     ]
    }
   ],
   "source": [
    "#3..Logical operator: AND OR NOT\n",
    "#use of and logical operator\n",
    "mark=85\n",
    "if mark>=80 and mark<=100:\n",
    "    print(\"A+\")\n",
    "\n",
    "#use of or logical operator\n",
    "a = 10\n",
    "b = 20\n",
    "if a > 5 or b < 10:\n",
    "    print(\"At least one condition is True.\")\n",
    "\n",
    "\n",
    "#use of not logical operator\n",
    "x = True\n",
    "print(not x)   # Output: False\n",
    "\n"
   ]
  },
  {
   "cell_type": "code",
   "execution_count": 30,
   "id": "d2051f11-0e8d-4948-97a3-3650bbbafa91",
   "metadata": {},
   "outputs": [
    {
     "name": "stdout",
     "output_type": "stream",
     "text": [
      "You are voter\n"
     ]
    }
   ],
   "source": [
    "#Topic-5:Conditional statement\n",
    "#1.if\n",
    "#2.if...else\n",
    "#3.if..elif...else\n",
    "\n",
    "#1:if\n",
    "age=18;\n",
    "if age>=18:\n",
    "    print(\"You are voter\")\n"
   ]
  },
  {
   "cell_type": "code",
   "execution_count": 31,
   "id": "61b42e95-3ee3-4af0-bf25-4e6dffb7bb25",
   "metadata": {},
   "outputs": [
    {
     "name": "stdout",
     "output_type": "stream",
     "text": [
      "You are voter\n"
     ]
    }
   ],
   "source": [
    "#2.if...else statement\n",
    "if age>=18:\n",
    "    print(\"You are voter\")\n",
    "else:\n",
    "    print(\"You are not voter\")"
   ]
  },
  {
   "cell_type": "code",
   "execution_count": 34,
   "id": "c5e1a92c-aaf7-4ce1-854d-5347b56ece23",
   "metadata": {},
   "outputs": [
    {
     "name": "stdout",
     "output_type": "stream",
     "text": [
      "A-\n"
     ]
    }
   ],
   "source": [
    "#3.if..elif....else\n",
    "mark = 60\n",
    "\n",
    "if mark >= 80 and mark <= 100:\n",
    "    print(\"A+\")\n",
    "elif mark >= 70 and mark < 80:\n",
    "    print(\"A\")\n",
    "elif mark >= 60 and mark < 70:\n",
    "    print(\"A-\")\n",
    "elif mark >= 50 and mark < 60:\n",
    "    print(\"B\")\n",
    "elif mark >= 40 and mark < 50:\n",
    "    print(\"C\")\n",
    "elif mark >= 33 and mark < 40:\n",
    "    print(\"D\")\n",
    "elif mark >= 0 and mark < 33:\n",
    "    print(\"F\")\n",
    "else:\n",
    "    print(\"Invalid mark\")\n",
    "\n",
    "    "
   ]
  },
  {
   "cell_type": "code",
   "execution_count": null,
   "id": "abffee5f-9eac-43cf-9923-8839dc571e95",
   "metadata": {},
   "outputs": [
    {
     "name": "stdout",
     "output_type": "stream",
     "text": [
      "I love you\n",
      "I love you\n",
      "I love you\n",
      "I love you\n",
      "I love you\n"
     ]
    }
   ],
   "source": [
    "#Topic-6: Loop:\n",
    "#1.For loop:\n",
    "iteration=5\n",
    "for i in range(iteration):\n",
    "    print(\"I love you\")"
   ]
  },
  {
   "cell_type": "code",
   "execution_count": 37,
   "id": "b4548edf-249a-435a-a6a6-1ab8fe172847",
   "metadata": {},
   "outputs": [
    {
     "name": "stdout",
     "output_type": "stream",
     "text": [
      "I Love you\n",
      "I Love you\n",
      "I Love you\n",
      "I Love you\n",
      "I Love you\n"
     ]
    }
   ],
   "source": [
    "#2.While loop:\n",
    "i=1\n",
    "while i<=5:\n",
    "    print(\"I Love you\")\n",
    "    i+=1"
   ]
  },
  {
   "cell_type": "code",
   "execution_count": 39,
   "id": "99dc66e8-1a11-4321-8bc1-8ab5f3d8360b",
   "metadata": {},
   "outputs": [
    {
     "name": "stdout",
     "output_type": "stream",
     "text": [
      "Hello hasib\n"
     ]
    }
   ],
   "source": [
    "#topic-7:Create user defined function:\n",
    "#create function\n",
    "def hello(name):\n",
    "    return \"Hello \"+ name\n",
    "\n",
    "my_name=\"hasib\"\n",
    "\n",
    "print(hello(my_name))\n"
   ]
  },
  {
   "cell_type": "code",
   "execution_count": 48,
   "id": "4f3415f0-45af-436c-8c68-ff89a20af453",
   "metadata": {},
   "outputs": [
    {
     "name": "stdout",
     "output_type": "stream",
     "text": [
      "['Hasib', 'Rafi', 'Nayem']\n",
      "['H', 'a', 's', 'i', 'b']\n",
      "[0, 1, 2, 3, 4]\n",
      "Nayem\n",
      "[0, 1, 2]\n",
      "[3, 4]\n",
      "4\n",
      "[4, 3, 2, 1, 0]\n",
      "['Rafiz', 'Rafi', 'Nayem']\n",
      "['Rafiz', 'Rafi', 'Nayem', 'Limon']\n",
      "['Rafiz', 'Hasib', 'Rafi', 'Nayem', 'Limon']\n",
      "[0, 1, 2, 3, 4, 'Rafiz', 'Hasib', 'Rafi', 'Nayem', 'Limon']\n",
      "['Rafiz', 'Rafi', 'Nayem', 'Limon']\n",
      "['Rafi', 'Nayem', 'Limon']\n",
      "[]\n",
      "1\n",
      "1\n",
      "[0, 1, 2, 3, 4, 5, 6, 7, 8, 9, 10, 11]\n",
      "[11, 10, 9, 8, 7, 6, 5, 4, 3, 2, 1, 0]\n",
      "Rafi\n",
      "Nayem\n",
      "Limon\n",
      "12\n",
      "66\n",
      "0\n",
      "11\n"
     ]
    }
   ],
   "source": [
    "#topic-8:List \n",
    "# List is a container which can\n",
    "# ✅ Ordered → index অনুযায়ী access করা যায়\n",
    "\n",
    "# ✅ Mutable → পরিবর্তন করা যায়\n",
    "\n",
    "# ✅ Duplicate Element রাখা যায়\n",
    "\n",
    "# ✅ Heterogeneous → ভিন্ন ধরনের ডেটা রাখা যায়\n",
    "\n",
    "#1.create list:\n",
    "name=[\"Hasib\",\"Rafi\",\"Nayem\"]\n",
    "#using list keyword:\n",
    "name_char=list(\"Hasib\") # H a s i b\n",
    "name_code=list(range(5))\n",
    "\n",
    "#2.print list:\n",
    "print(name)\n",
    "print(name_char)\n",
    "print(name_code)\n",
    "\n",
    "#3.access specific index:\n",
    "print(name[2])\n",
    "print(name_code[:3])  #index 0 to 2\n",
    "print(name_code[3:]) #index 3 to end\n",
    "print(name_code[-1]) # index =-1 is the last index\n",
    "print(name_code[::-1]) # print reverse order\n",
    "\n",
    "#4. modefiy of list\n",
    "name[0]=\"Rafiz\"\n",
    "print(name)\n",
    "\n",
    "\n",
    "#5.Insert value insert: \n",
    "name.append(\"Limon\")\n",
    "print(name)\n",
    "\n",
    "\n",
    "#6.important function:\n",
    "# Method\tDescription\tExample\n",
    "# append(x)\t    শেষে item যোগ করে\t\n",
    "# insert(i, x)\tনির্দিষ্ট স্থানে item ঢোকায়\t\n",
    "# extend(list2)\tঅন্য list এর সব item যোগ করে\t\n",
    "# remove(x)\t    প্রথম x item মুছে ফেলে\t\n",
    "# pop(i)          index অনুযায়ী item সরায় (ডিফল্ট: শেষ item\n",
    "# clear()     \tসব item মুছে ফেলে\t\n",
    "# index(x)\t    x এর প্রথম index দেয়\t\n",
    "# count(x)\t    x কতবার আছে বলে\t\n",
    "# sort()\t        list কে sort করে\t\n",
    "# reverse()\t    list উল্টে দেয়\n",
    "\n",
    "name.insert(1,\"Hasib\")  # insert Hasib in index 1:\n",
    "print(name)\n",
    "\n",
    "name_code.extend(name)  # Two list \n",
    "print(name_code)\n",
    "\n",
    "name.remove(\"Hasib\")        # Reomove work baesd on value: Here remove Hasib\n",
    "print(name)\n",
    "\n",
    "name.pop(0)      # Reomove 0 index value: pop work baesd on index\n",
    "print(name)\n",
    "\n",
    "name_char.clear() # Remove all item from list\n",
    "print(name_char)\n",
    "\n",
    "print(name.index(\"Nayem\")) # this return index of value\n",
    "\n",
    "print(name.count(\"Rafi\"))  # Return the number of what time present any element in list\n",
    "\n",
    "trial = list(range(12))  \n",
    "\n",
    "trial.sort()         # Sort করে ascending এ\n",
    "print(trial)         # [1, 2, ..., 12]\n",
    "\n",
    "trial.reverse()      # উল্টে দেয় → descending\n",
    "print(trial)         # [12, 11, ..., 1]\n",
    "\n",
    "#7.print list using for loop:\n",
    "for i in name:\n",
    "    print(i)\n",
    "\n",
    "#8.some more important build in function:\n",
    "# | Function    | Example                     | Description     |\n",
    "# | ----------- | --------------------------- | --------------  |\n",
    "# | `len(a)`    | `len([1,2,3]) → 3`          | দৈর্ঘ্য            |\n",
    "# | `sum(a)`    | `sum([1,2,3]) → 6`          | যোগফল         |\n",
    "# | `min(a)`    | `min([1,2,3]) → 1`          | সবচেয়ে ছোট     |\n",
    "# | `max(a)`    | `max([1,2,3]) → 3`          | সবচেয়ে বড়      |\n",
    "# | `sorted(a)` | `sorted([3,1,2]) → [1,2,3]` | নতুন sort list  |\n",
    "\n",
    "print(len(trial)) #Return length of trial\n",
    "\n",
    "print(sum(trial)) #Return sum of trial\n",
    "\n",
    "print(min(trial)) #Retyrn min value\n",
    "\n",
    "print(max(trial)) #Return max value\n"
   ]
  },
  {
   "cell_type": "code",
   "execution_count": 83,
   "id": "501be96d-96b8-49b2-b39f-1ac75ded098a",
   "metadata": {},
   "outputs": [
    {
     "name": "stdout",
     "output_type": "stream",
     "text": [
      "{'name': 'Hasib', 'age': 22, 'city': 'Chattogram'}\n",
      "Hasib\n",
      "{'name': 'Hasib', 'age': 22, 'city': 'sherpur'}\n",
      "dict_keys(['name', 'Roll', 'Dept', 'District'])\n",
      "dict_values(['hasib', 23701024, 'CSE', 'Sherpur'])\n",
      "dict_items([('name', 'hasib'), ('Roll', 23701024), ('Dept', 'CSE'), ('District', 'Sherpur')])\n",
      "{'name': 'hasib', 'Roll': 23701024, 'Dept': 'CSE', 'District': 'Sherpur'}\n",
      "{'name': 'Hasib', 'age': 22}\n",
      "{'name': 'Hasib'}\n",
      "name hasib\n",
      "Roll 23701024\n",
      "Dept CSE\n",
      "District Sherpur\n"
     ]
    }
   ],
   "source": [
    "#topic-8:Drictonary\n",
    "#Create dictonary:\n",
    "person =   {\"name\": \"Hasib\", \"age\": 22, \"city\": \"Chattogram\"}  \n",
    "\n",
    "\n",
    "print(person)\n",
    "\n",
    "#Access করা (Indexing)\n",
    "print(person[\"name\"])\n",
    "\n",
    "#update any value:\n",
    "person[\"city\"]=\"sherpur\"\n",
    "print(person)\n",
    "\n",
    "#important Methods:\n",
    "# | Method               | কাজ                               |\n",
    "# | -------------------- | ---------------------------------  |\n",
    "# | `keys()`             | সব key দেয়                        |\n",
    "# | `values()`           | সব value দেয়                      |\n",
    "# | `items()`            | সব key-value pair দেয়             |\n",
    "# | `get(key)`           | Key অনুযায়ী value দেয়              | \n",
    "# | `copy()`             | shallow copy তৈরি করে             |\n",
    "# | `pop(key)`           | key অনুযায়ী remove করে            |\n",
    "# | `popitem()`          | শেষ key-value remove করে         |\n",
    "# | `clear()`            | সবকিছু মুছে ফেলে                  |\n",
    "\n",
    "student={\"name\":\"hasib\",\"Roll\":23701024,\"Dept\":\"CSE\",\"District\":\"Sherpur\"}\n",
    "\n",
    "print(student.keys()) # Return all keys\n",
    "\n",
    "print(student.values()) # Return all values\n",
    "\n",
    "print(student.items()) # Return all pairs\n",
    "\n",
    "copy_dic={}\n",
    "copy_dic=student.copy()  #copy to another dictonary\n",
    "print(copy_dic)\n",
    "\n",
    "#delete any value using key:\n",
    "person.pop(\"city\")\n",
    "print(person)\n",
    "\n",
    "\n",
    "# clear dictonary:\n",
    "# person.clear()\n",
    "\n",
    "#Delate last pair item:\n",
    "person.popitem()\n",
    "print(person)\n",
    "\n",
    "#print data using for loop:\n",
    "for i in copy_dic:\n",
    "    print(i,copy_dic[i])\n",
    "\n"
   ]
  },
  {
   "cell_type": "code",
   "execution_count": 106,
   "id": "f2a25393-3e76-4d35-8e38-6ebaa0ef2b77",
   "metadata": {},
   "outputs": [
    {
     "name": "stdout",
     "output_type": "stream",
     "text": [
      "{1, 2, 3, 4}\n",
      "set()\n",
      "{1, 2, 3, 4}\n",
      "{1, 2, 3, 4}\n",
      "{1, 2, 3, 4, 5, 6}\n",
      "{1, 3, 4, 5, 6}\n",
      "{3, 4, 5, 6}\n",
      "set()\n",
      "{1, 2, 3, 4, 5, 6}\n",
      "{3, 4}\n",
      "{1, 2}\n",
      "{1, 2, 5, 6}\n",
      "3\n",
      "True\n",
      "False\n",
      "True\n",
      "False\n",
      "True\n",
      "False\n"
     ]
    }
   ],
   "source": [
    "#Topic-9:\n",
    "# Python-এর set হল এমন একটি ডেটা স্ট্রাকচার, যা অর্ডারবিহীন, ইউনিক (অর্থাৎ ডুপ্লিকেটহীন) এলিমেন্ট সংরক্ষণ করে। এটি মেথমেটিকাল সেট-এর ধারণা অনুসরণ করে\n",
    "# 🔹 Set এর বৈশিষ্ট্য:\n",
    "# Unordered: এলিমেন্ট গুলোর কোনো নির্দিষ্ট ক্রম থাকে না।\n",
    "\n",
    "# No Duplicates: একই ভ্যালু একবারের বেশি রাখা যাবে না।\n",
    "\n",
    "# Mutable: একবার তৈরি করার পরেও সেট-এ এলিমেন্ট যোগ বা বাদ দেওয়া যায়।\n",
    "\n",
    "# Iterable: ফর লুপ দিয়ে ইটারেট করা যায়\n",
    "\n",
    "# 1.. Curly braces দিয়ে\n",
    "numbers = {1, 2, 3, 4}\n",
    "print(numbers)\n",
    "\n",
    "#2.. set() ফাংশন দিয়ে (খালি সেট বানানোর জন্যও)\n",
    "empty_set = set()\n",
    "print(empty_set)\n",
    "\n",
    "#3.Set remove duplicate\n",
    "nums = {1, 2, 2, 3, 4, 4}\n",
    "print(nums)   \n",
    "\n",
    "my_set = {1, 2, 3}\n",
    "\n",
    "#4.single vlaue : add()\n",
    "my_set.add(4)\n",
    "print(my_set)\n",
    "\n",
    "#5.multiple value add: update()\n",
    "my_set.update([5, 6])\n",
    "print(my_set)\n",
    "\n",
    "#6.বাদ দিতে: remove() → Error দেয় যদি না থাক\n",
    "my_set.remove(2)\n",
    "print(my_set)\n",
    "\n",
    "#7.Random element delete:pop()\n",
    "my_set.pop()\n",
    "print(my_set)\n",
    "\n",
    "#8.বাদ দিতে: discard() → Error দেয় না\n",
    "my_set.discard(10)\n",
    "\n",
    "#9.সব কিছু মুছতে: clear()\n",
    "my_set.clear()\n",
    "print(my_set)\n",
    "\n",
    "\n",
    "\n",
    "\n",
    "\n",
    "#  Set Operations (Mathematical):\n",
    "\n",
    "A={1,2,3,4}\n",
    "B={3,4,5,6}\n",
    "\n",
    "#1.Union of set: |\n",
    "print(A|B)\n",
    "\n",
    "#2.Intersection of sets:\n",
    "print(A&B)\n",
    "\n",
    "#3.Difference between two sets:\n",
    "print(A-B)\n",
    "\n",
    "#4. Symmetric Difference (A Δ B)\n",
    "print(A ^ B)\n",
    "\n",
    "#Some extra important methods:\n",
    "s={1,2,3}\n",
    "\n",
    "#1.Find lenght:\n",
    "print(len(s))\n",
    "\n",
    "#2.Find any value present or not in set:\n",
    "print(2 in s)\n",
    "print(10 in s)\n",
    "\n",
    "\n",
    "#3.Verify two set disjoint or not:\n",
    "print({5,6}.isdisjoint(s))   #{5,6} and s is disjoint\n",
    "print({1,2}.isdisjoint(s))   #{1,2} and s is not disjoint beacuse there are present common component both of them\n",
    "\n",
    "#4.verify subset or not:\n",
    "print({1}.issubset(s))     #{1} is subset of s\n",
    "print({5,6}.issubset(s))   #{5,6} is not subset\n",
    "\n",
    "\n"
   ]
  },
  {
   "cell_type": "code",
   "execution_count": 133,
   "id": "1a6f7dd8-ac64-4aac-bf38-93c7ae5d76a5",
   "metadata": {},
   "outputs": [
    {
     "name": "stdout",
     "output_type": "stream",
     "text": [
      "Hello\n",
      "Hello world\n",
      "Hello worldHello worldHello world\n",
      "P\n",
      "n\n",
      "yth\n",
      "Pyt\n",
      "hon\n",
      "5\n",
      "H\n",
      "a\n",
      "s\n",
      "i\n",
      "b\n",
      "hasib\n",
      "HASIB\n",
      "Hasib\n",
      "Computer Science And Engineering\n",
      "computer science and Engineering\n",
      "computer science and Engg\n",
      "1\n",
      "21\n",
      "My name is Hasib and I am 22 years old.\n",
      "True\n",
      "False\n"
     ]
    }
   ],
   "source": [
    "# Topic-10:String Manipulation\n",
    "#1.create string:\n",
    "text1=\"Hello\"\n",
    "print(text1)\n",
    "\n",
    "#2.Concatenation of string:\n",
    "text2=\"world\"\n",
    "text=text1 +\" \"+text2;\n",
    "print(text)\n",
    "\n",
    "\n",
    "#3.Repetition of string:\n",
    "print(text*3)\n",
    "\n",
    "#4.String Indexing and Slicing\n",
    "msg = \"Python\"\n",
    "\n",
    "print(msg[0])   # index 0 return 1st character\n",
    "print(msg[-1])  # index -1 return last character\n",
    "\n",
    "#5.Slicing\n",
    "print(msg[1:4])   \n",
    "print(msg[:3])    \n",
    "print(msg[3:])\n",
    "\n",
    "#6.String Length\n",
    "name = \"Hasib\"\n",
    "print(len(name))\n",
    "\n",
    "\n",
    "#7.String print using for loop:\n",
    "for char in name:\n",
    "    print(char)\n",
    "\n",
    "#8.Convert all character to lower case:\n",
    "print(name.lower())\n",
    "\n",
    "#9.Convert all character to upper case:\n",
    "print(name.upper())\n",
    "\n",
    "#9.Capital only first character:\n",
    "print(name.capitalize())\n",
    "\n",
    "dep=\"computer science and Engineering\"\n",
    "#10.capital only first character in every word:\n",
    "print(dep.title())\n",
    "\n",
    "#11.Remove space from strin this space are present in first and last position:\n",
    "print(dep.strip())\n",
    "\n",
    "#12.Replace any word from string:\n",
    "print(dep.replace(\"Engineering\",\"Engg\"))\n",
    "\n",
    "#13.Count frequencey of word:\n",
    "print(dep.count(\"computer\"))\n",
    "\n",
    "#14.Find substring position:\n",
    "print(dep.find(\"Engineering\"))\n",
    "\n",
    "#15. f-string (String Formatting)\n",
    "name = \"Hasib\"\n",
    "age = 22\n",
    "print(f\"My name is {name} and I am {age} years old.\")\n",
    "\n",
    "#16.Find any word present or not in string:\n",
    "sentence = \"I love programming\"\n",
    "print(\"love\" in sentence)   \n",
    "print(\"hate\"  in sentence)  \n",
    "\n"
   ]
  },
  {
   "cell_type": "code",
   "execution_count": 139,
   "id": "96f8817a-158b-45d4-bb58-9b6f60ac47ed",
   "metadata": {},
   "outputs": [
    {
     "name": "stdout",
     "output_type": "stream",
     "text": [
      "Enter a number:  0\n"
     ]
    },
    {
     "name": "stdout",
     "output_type": "stream",
     "text": [
      "You cannot divide by zero!\n"
     ]
    },
    {
     "name": "stdout",
     "output_type": "stream",
     "text": [
      "Enter your age:  a\n"
     ]
    },
    {
     "name": "stdout",
     "output_type": "stream",
     "text": [
      "Please enter a valid number!\n",
      "Type mismatch! You can't add a string and a number.\n",
      "Index out of range!\n",
      "Key not found in dictionary.\n",
      "File not found.\n",
      "Integer object has no attribute 'append'.\n",
      "Module not found.\n",
      "Error occurred: invalid literal for int() with base 10: 'abc'\n"
     ]
    },
    {
     "name": "stdout",
     "output_type": "stream",
     "text": [
      "Enter age:  -4\n"
     ]
    },
    {
     "ename": "ValueError",
     "evalue": "Age cannot be negative!",
     "output_type": "error",
     "traceback": [
      "\u001b[1;31m---------------------------------------------------------------------------\u001b[0m",
      "\u001b[1;31mValueError\u001b[0m                                Traceback (most recent call last)",
      "Cell \u001b[1;32mIn[139], line 90\u001b[0m\n\u001b[0;32m     88\u001b[0m age \u001b[38;5;241m=\u001b[39m \u001b[38;5;28mint\u001b[39m(\u001b[38;5;28minput\u001b[39m(\u001b[38;5;124m\"\u001b[39m\u001b[38;5;124mEnter age: \u001b[39m\u001b[38;5;124m\"\u001b[39m))\n\u001b[0;32m     89\u001b[0m \u001b[38;5;28;01mif\u001b[39;00m age \u001b[38;5;241m<\u001b[39m \u001b[38;5;241m0\u001b[39m:\n\u001b[1;32m---> 90\u001b[0m     \u001b[38;5;28;01mraise\u001b[39;00m \u001b[38;5;167;01mValueError\u001b[39;00m(\u001b[38;5;124m\"\u001b[39m\u001b[38;5;124mAge cannot be negative!\u001b[39m\u001b[38;5;124m\"\u001b[39m)\n\u001b[0;32m     92\u001b[0m \u001b[38;5;66;03m#Create Custome Exception:\u001b[39;00m\n\u001b[0;32m     93\u001b[0m \u001b[38;5;28;01mclass\u001b[39;00m \u001b[38;5;21;01mNegativeNumberError\u001b[39;00m(\u001b[38;5;167;01mException\u001b[39;00m):\n",
      "\u001b[1;31mValueError\u001b[0m: Age cannot be negative!"
     ]
    }
   ],
   "source": [
    "#Topic-11:Exception Handling\n",
    "# Exception handling is the process of managing errors that occur during the execution of a program. Instead of crashing the program, Python allows us to handle errors using try, except, etc\n",
    "#Basic stracture:\n",
    "# try:\n",
    "#     # Suspicious code that might throw error\n",
    "# except ExceptionType:\n",
    "#     # Code to handle the error\n",
    "# else:\n",
    "#     # Executes if no error occurred\n",
    "# finally:\n",
    "#     # Executes no matter what (error or no error)\n",
    "\n",
    "#EXample-1:Handling Division by Zero\n",
    "try:\n",
    "    x = int(input(\"Enter a number: \"))\n",
    "    result = 10 / x\n",
    "    print(\"Result:\", result)\n",
    "except ZeroDivisionError:\n",
    "    print(\"You cannot divide by zero!\")\n",
    "\n",
    "\n",
    " # Example 2: Handling Invalid Input\n",
    "try:\n",
    "    age = int(input(\"Enter your age: \"))\n",
    "except ValueError:\n",
    "    print(\"Please enter a valid number!\")\n",
    "\n",
    "\n",
    "#EXample-3:TypeErro\n",
    "try:\n",
    "    result = '5' + 3\n",
    "except TypeError:\n",
    "    print(\"Type mismatch! You can't add a string and a number.\")\n",
    "\n",
    "#Example-4:IndexError\n",
    "\n",
    "try:\n",
    "    my_list = [1, 2, 3]\n",
    "    print(my_list[5])\n",
    "except IndexError:\n",
    "    print(\"Index out of range!\")\n",
    "\n",
    "#Example-5:KeyError\n",
    "try:\n",
    "    my_dict = {'name': 'Hasib'}\n",
    "    print(my_dict['age'])\n",
    "except KeyError:\n",
    "    print(\"Key not found in dictionary.\")\n",
    "\n",
    "\n",
    "#Exaple -6:FileNotFoundError\n",
    "try:\n",
    "    f = open(\"missing_file.txt\", \"r\")\n",
    "except FileNotFoundError:\n",
    "    print(\"File not found.\")\n",
    "\n",
    "#Example-7:AttributeErro:Occurs when a variable does not have the attribute you are trying to access\n",
    "try:\n",
    "    x = 5\n",
    "    x.append(10)\n",
    "except AttributeError:\n",
    "    print(\"Integer object has no attribute 'append'.\")\n",
    "\n",
    "#Example-8:ImportError:Occurs when an import statement fails to find the module\n",
    "try:\n",
    "    import unknownmodule\n",
    "except ImportError:\n",
    "    print(\"Module not found.\")\n",
    "\n",
    "\n",
    "# Catching All Errors:\n",
    "# try:\n",
    "#     # risky_code()\n",
    "# except Exception as e:\n",
    "#     print(\"An error occurred:\", e)\n",
    "\n",
    "\n",
    "\n",
    "#Handel Multipule error:\n",
    "try:\n",
    "    x = int(\"abc\")     # ValueError\n",
    "    y = 10 / x         # ZeroDivisionError if x = 0\n",
    "except (ValueError, ZeroDivisionError) as e:\n",
    "    print(\"Error occurred:\", e)\n",
    "\n",
    "\n",
    "# Raising Your Own Exception:\n",
    "age = int(input(\"Enter age: \"))\n",
    "if age < 0:\n",
    "    raise ValueError(\"Age cannot be negative!\")\n",
    "\n",
    "#Create Custome Exception:\n",
    "class NegativeNumberError(Exception):\n",
    "    pass\n",
    "\n",
    "def check_number(num):\n",
    "    if num < 0:\n",
    "        raise NegativeNumberError(\"Negative numbers are not allowed!\")\n",
    "\n",
    "try:\n",
    "    check_number(-10)\n",
    "except NegativeNumberError as e:\n",
    "    print(\"Custom Error:\", e)\n",
    "\n",
    "\n"
   ]
  },
  {
   "cell_type": "code",
   "execution_count": null,
   "id": "90307942-9645-44c5-8fcd-4586ac4b3233",
   "metadata": {},
   "outputs": [],
   "source": []
  }
 ],
 "metadata": {
  "kernelspec": {
   "display_name": "Python 3 (ipykernel)",
   "language": "python",
   "name": "python3"
  },
  "language_info": {
   "codemirror_mode": {
    "name": "ipython",
    "version": 3
   },
   "file_extension": ".py",
   "mimetype": "text/x-python",
   "name": "python",
   "nbconvert_exporter": "python",
   "pygments_lexer": "ipython3",
   "version": "3.12.2"
  }
 },
 "nbformat": 4,
 "nbformat_minor": 5
}
